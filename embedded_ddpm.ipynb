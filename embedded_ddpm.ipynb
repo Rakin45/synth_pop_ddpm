{
 "cells": [
  {
   "cell_type": "code",
   "execution_count": 1,
   "metadata": {},
   "outputs": [],
   "source": [
    "import os\n",
    "import torch\n",
    "import math\n",
    "import torch\n",
    "import pandas as pd\n",
    "import numpy as np\n",
    "import torch.nn as nn \n",
    "import torch.nn.functional as F\n",
    "import matplotlib.pyplot as plt \n",
    "from torch import optim\n",
    "from tqdm import tqdm\n",
    "import logging\n",
    "from torch.utils.tensorboard import SummaryWriter"
   ]
  },
  {
   "cell_type": "code",
   "execution_count": 2,
   "metadata": {},
   "outputs": [],
   "source": [
    "logging.basicConfig(format=\"%(asctime)s - %(levelname)s: %(message)s\", level=logging.INFO, datefmt=\"%I:%M:%S\")\n",
    "def setup_logging(run_name):\n",
    "    os.makedirs(\"models\", exist_ok=True)\n",
    "    os.makedirs(\"results\", exist_ok=True)\n",
    "    os.makedirs(os.path.join(\"models\", run_name), exist_ok=True)\n",
    "    os.makedirs(os.path.join(\"results\", run_name), exist_ok=True)"
   ]
  },
  {
   "cell_type": "markdown",
   "metadata": {},
   "source": [
    "# Data Preprocessing"
   ]
  },
  {
   "cell_type": "code",
   "execution_count": 3,
   "metadata": {},
   "outputs": [],
   "source": [
    "# Fred's encoder code\n",
    "class DescreteEncoder:\n",
    "    def __init__(self, duration: int = 1440, step_size: int = 10):\n",
    "        self.duration = duration\n",
    "        self.step_size = step_size\n",
    "        self.steps = duration // step_size\n",
    "        self.index_to_acts = {}\n",
    "        self.acts_to_index = {}\n",
    "\n",
    "    def encode(self, data: pd.DataFrame):\n",
    "        # Create mappings from activity to index and vice versa\n",
    "        self.index_to_acts = {i: a for i, a in enumerate(data.act.unique())}\n",
    "        self.acts_to_index = {a: i for i, a in self.index_to_acts.items()}\n",
    "        \n",
    "        # Create a new DataFrame for encoded data\n",
    "        encoded_data = data.copy()\n",
    "        encoded_data['act'] = encoded_data['act'].map(self.acts_to_index)\n",
    "        return encoded_data\n",
    "    \n",
    "    def decode(self, encoded_image_grid) -> pd.DataFrame:\n",
    "        if isinstance(encoded_image_grid, torch.Tensor):\n",
    "            encoded_image_grid = encoded_image_grid.numpy()\n",
    "        \n",
    "        decoded = []\n",
    "        for pid in range(encoded_image_grid.shape[0]):\n",
    "            sequence = encoded_image_grid[pid]\n",
    "            current_act = None\n",
    "            act_start = None\n",
    "            \n",
    "            for time_step, act_index in enumerate(sequence):\n",
    "                # If the activity changes or it's the end of the day, record the activity\n",
    "                if act_index != current_act and current_act is not None:\n",
    "                    act_end = time_step * self.step_size\n",
    "                    decoded.append({\n",
    "                        \"pid\": pid,\n",
    "                        \"act\": self.index_to_acts[current_act],\n",
    "                        \"start\": act_start,\n",
    "                        \"end\": act_end\n",
    "                    })\n",
    "                    act_start = time_step * self.step_size\n",
    "                # If the activity changes, update the current activity\n",
    "                if act_index != current_act:\n",
    "                    current_act = act_index\n",
    "                    act_start = time_step * self.step_size\n",
    "            \n",
    "            # Add the last activity of the day if the day ended with an activity\n",
    "            if current_act is not None and act_start is not None:\n",
    "                decoded.append({\n",
    "                    \"pid\": pid,\n",
    "                    \"act\": self.index_to_acts[current_act],\n",
    "                    \"start\": act_start,\n",
    "                    \"end\": self.duration\n",
    "                })\n",
    "\n",
    "        return pd.DataFrame(decoded, columns=[\"pid\", \"act\", \"start\", \"end\"])"
   ]
  },
  {
   "cell_type": "code",
   "execution_count": 4,
   "metadata": {},
   "outputs": [],
   "source": [
    "# Load data and encode it\n",
    "data = pd.read_csv('./data/nts_population.csv')\n",
    "encoder = DescreteEncoder()\n",
    "encoded_data = encoder.encode(data)\n",
    "\n",
    "# Function to convert encoded data into an image grid\n",
    "def create_image_grid(encoded_data, encoder):\n",
    "    # Map pid to sequential indices starting from 0\n",
    "    pid_to_index = {pid: index for index, pid in enumerate(encoded_data['pid'].unique())}\n",
    "    \n",
    "    num_people = len(pid_to_index)\n",
    "    time_steps = encoder.steps\n",
    "    grid = np.zeros((num_people, time_steps))\n",
    "    \n",
    "    for _, row in encoded_data.iterrows():\n",
    "        pid_index = pid_to_index[row['pid']]\n",
    "        act_index = row['act']\n",
    "        start_step = row['start'] // encoder.step_size\n",
    "        end_step = row['end'] // encoder.step_size\n",
    "        grid[pid_index, start_step:end_step] = act_index\n",
    "    \n",
    "    return grid\n",
    "\n",
    "image_grid = create_image_grid(encoded_data, encoder)\n",
    "tensor_image_grid = torch.tensor(image_grid)\n",
    "torch.save(tensor_image_grid, './data/image_grid.pt')"
   ]
  },
  {
   "cell_type": "code",
   "execution_count": 5,
   "metadata": {},
   "outputs": [
    {
     "name": "stdout",
     "output_type": "stream",
     "text": [
      "Index to Activities Mapping:\n",
      "{0: 'home', 1: 'shop', 2: 'work', 3: 'escort', 4: 'other', 5: 'education', 6: 'visit', 7: 'medical'}\n",
      "\n",
      "Activities to Index Mapping:\n",
      "{'home': 0, 'shop': 1, 'work': 2, 'escort': 3, 'other': 4, 'education': 5, 'visit': 6, 'medical': 7}\n",
      "\n",
      "Vocabulary Size: 8\n",
      "Vocabulary size matches expected size\n"
     ]
    }
   ],
   "source": [
    "# Inspect mappings\n",
    "print(\"Index to Activities Mapping:\")\n",
    "print(encoder.index_to_acts)\n",
    "print(\"\\nActivities to Index Mapping:\")\n",
    "print(encoder.acts_to_index)\n",
    "\n",
    "# Calculate vocabulary size\n",
    "vocab_size = len(encoder.index_to_acts)\n",
    "print(\"\\nVocabulary Size:\", vocab_size)\n",
    "\n",
    "# Compare vocabulary size to expected size\n",
    "expected_vocab_size = 8  # Assuming 'ntoken' is the expected vocabulary size\n",
    "if vocab_size != expected_vocab_size:\n",
    "    print(f\"Warning: Vocabulary size ({vocab_size}) does not match expected size ({expected_vocab_size})\")\n",
    "else:\n",
    "    print(\"Vocabulary size matches expected size\")"
   ]
  },
  {
   "cell_type": "code",
   "execution_count": 6,
   "metadata": {},
   "outputs": [
    {
     "data": {
      "image/png": "[encoded data removed]",
      "text/plain": [
       "<Figure size 1200x600 with 2 Axes>"
      ]
     },
     "metadata": {},
     "output_type": "display_data"
    }
   ],
   "source": [
    "def plot_image_grid(image_grid, title = 'Activity Sequence (Training)' ):    \n",
    "    plt.figure(figsize=(12, 6))\n",
    "    plt.imshow(image_grid, aspect='auto', cmap=\"tab10\")\n",
    "    plt.colorbar()\n",
    "    plt.title(title)\n",
    "    plt.xlabel('Time Steps')\n",
    "    plt.ylabel('Individuals')\n",
    "    plt.show()\n",
    "plot_image_grid(image_grid)"
   ]
  },
  {
   "cell_type": "code",
   "execution_count": 7,
   "metadata": {},
   "outputs": [
    {
     "name": "stderr",
     "output_type": "stream",
     "text": [
      "C:\\Users\\rakin\\AppData\\Local\\Temp\\ipykernel_34708\\3009758289.py:13: UserWarning: To copy construct from a tensor, it is recommended to use sourceTensor.clone().detach() or sourceTensor.clone().detach().requires_grad_(True), rather than torch.tensor(sourceTensor).\n",
      "  self.data.append((torch.tensor(context), torch.tensor(target)))\n"
     ]
    },
    {
     "name": "stdout",
     "output_type": "stream",
     "text": [
      "Epoch 0, Loss: 0.0003989306448517567\n",
      "Epoch 1, Loss: 0.00027851589189966584\n",
      "Epoch 2, Loss: 0.000277784064514103\n",
      "Epoch 3, Loss: 0.0002775704654718942\n",
      "Epoch 4, Loss: 0.0002775385812121958\n",
      "Epoch 5, Loss: 0.00027753379780060553\n",
      "Epoch 6, Loss: 0.0002774742666136061\n",
      "Epoch 7, Loss: 0.00027743700351756174\n",
      "Epoch 8, Loss: 0.00027743638086170973\n",
      "Epoch 9, Loss: 0.00027740947426061017\n"
     ]
    }
   ],
   "source": [
    "import torch\n",
    "from torch.utils.data import TensorDataset, DataLoader\n",
    "import torch.nn as nn\n",
    "import torch.optim as optim\n",
    "\n",
    "class ActivityDataset(TensorDataset):\n",
    "    def __init__(self, sequences, context_size=2):\n",
    "        self.data = []\n",
    "        for sequence in sequences:\n",
    "            for i in range(context_size, len(sequence) - context_size):\n",
    "                context = [sequence[i + j] for j in range(-context_size, context_size + 1) if j != 0]\n",
    "                target = sequence[i]\n",
    "                self.data.append((torch.tensor(context), torch.tensor(target)))\n",
    "\n",
    "    def __len__(self):\n",
    "        return len(self.data)\n",
    "\n",
    "    def __getitem__(self, idx):\n",
    "        return self.data[idx]\n",
    "\n",
    "class CBOWModel(nn.Module):\n",
    "    def __init__(self, vocab_size, embedding_dim):\n",
    "        super(CBOWModel, self).__init__()\n",
    "        self.embeddings = nn.Embedding(vocab_size, embedding_dim)\n",
    "        self.linear = nn.Linear(embedding_dim, vocab_size)\n",
    "\n",
    "    def forward(self, inputs):\n",
    "        inputs = inputs.to(device)  # Ensure inputs are on the correct device\n",
    "        embedded = self.embeddings(inputs).mean(dim=1)\n",
    "        out = self.linear(embedded)\n",
    "        return out\n",
    "\n",
    "def train_model(dataset, model, optimizer, epochs=10, device=\"cuda\"):\n",
    "    model.train()\n",
    "    loss_function = nn.CrossEntropyLoss()\n",
    "    for epoch in range(epochs):\n",
    "        total_loss = 0\n",
    "        for context, target in DataLoader(dataset, batch_size=128, shuffle=True):\n",
    "            context, target = context.to(device), target.to(device)  # Ensure data is on the correct device\n",
    "            model.zero_grad()\n",
    "            log_probs = model(context)\n",
    "            loss = loss_function(log_probs, target.view(-1))\n",
    "            loss.backward()\n",
    "            optimizer.step()\n",
    "            total_loss += loss.item()\n",
    "        print(f'Epoch {epoch}, Loss: {total_loss / len(dataset)}')\n",
    "\n",
    "# Assuming tensor_image_grid is already defined and is a tensor\n",
    "device = torch.device(\"cuda\" if torch.cuda.is_available() else \"cpu\")\n",
    "dataset = ActivityDataset(tensor_image_grid.long(), context_size=2)\n",
    "model = CBOWModel(vocab_size=8, embedding_dim=6).to(device)\n",
    "optimizer = optim.Adam(model.parameters(), lr=0.001)\n",
    "\n",
    "# Train the model\n",
    "train_model(dataset, model, optimizer, epochs=10)"
   ]
  },
  {
   "cell_type": "code",
   "execution_count": 10,
   "metadata": {},
   "outputs": [
    {
     "name": "stdout",
     "output_type": "stream",
     "text": [
      "Vector for home: tensor([ 1.1145,  0.8583, -2.5000,  1.4852,  0.1978, -0.8283], device='cuda:0')\n",
      "Vector for shop: tensor([-0.5292,  2.2478,  2.4496,  0.6518,  1.1224, -2.8073], device='cuda:0')\n",
      "Vector for work: tensor([-0.4716,  3.1513, -0.4099, -0.9526, -2.9254,  1.7434], device='cuda:0')\n",
      "Vector for escort: tensor([ 3.5868, -2.6937,  2.7066,  2.1030, -1.2640,  0.6244], device='cuda:0')\n",
      "Vector for other: tensor([-0.6875, -1.2409, -1.6102, -0.3990, -2.4970, -2.8325], device='cuda:0')\n",
      "Vector for education: tensor([ 0.2433,  0.2264, -1.1336, -0.6663,  2.9557,  3.0715], device='cuda:0')\n",
      "Vector for visit: tensor([-2.5144, -1.9908, -0.7184,  3.0489,  0.3743,  1.5496], device='cuda:0')\n",
      "Vector for medical: tensor([ 2.6149, -0.9780,  0.7129, -1.6360,  3.4254, -2.7571], device='cuda:0')\n"
     ]
    }
   ],
   "source": [
    "embedding_weights = model.embeddings.weight.data\n",
    "\n",
    "activities_to_idx = {\n",
    "    'home': 0, 'shop': 1, 'work': 2, 'escort': 3, 'other': 4, 'education': 5, 'visit': 6, 'medical': 7\n",
    "}\n",
    "\n",
    "# Print the vector for each activity\n",
    "for activity, idx in activities_to_idx.items():\n",
    "    vector = embedding_weights[idx]\n",
    "    print(f\"Vector for {activity}: {vector}\")"
   ]
  },
  {
   "cell_type": "markdown",
   "metadata": {},
   "source": [
    "# Diffusion"
   ]
  },
  {
   "cell_type": "code",
   "execution_count": null,
   "metadata": {},
   "outputs": [],
   "source": [
    "class Diffusion:\n",
    "    def __init__(self, noise_steps=25, beta_start=0.0001, beta_end=0.02, sequence_length=144, device=\"cuda\"):\n",
    "        self.noise_steps = noise_steps\n",
    "        self.beta_start = beta_start\n",
    "        self.beta_end = beta_end\n",
    "        self.sequence_length = sequence_length\n",
    "        self.device = device\n",
    "\n",
    "        self.beta = self.schedule_noise().to(device)\n",
    "        self.alpha = 1. - self.beta\n",
    "        self.alpha_hat = torch.cumprod(self.alpha, dim=0)\n",
    "\n",
    "    def schedule_noise(self):\n",
    "        return torch.linspace(self.beta_start, self.beta_end, self.noise_steps)\n",
    "    \n",
    "    def noise_embeddings(self, embeddings, t):\n",
    "        sqrt_alpha_hat = torch.sqrt(self.alpha_hat[t])[:, None, None]\n",
    "        sqrt_one_minus_alpha_hat = torch.sqrt(1. - self.alpha_hat[t])[:, None, None]\n",
    "\n",
    "        epsilon = torch.randn_like(embeddings)\n",
    "\n",
    "        noisy_embeddings = sqrt_alpha_hat * embeddings + sqrt_one_minus_alpha_hat * epsilon\n",
    "\n",
    "        # Debug: Check for NaNs\n",
    "        if torch.isnan(noisy_embeddings).any():\n",
    "            print(\"NaNs detected in noisy_embeddings\")\n",
    "            print(\"sqrt_alpha_hat:\", sqrt_alpha_hat)\n",
    "            print(\"sqrt_one_minus_alpha_hat:\", sqrt_one_minus_alpha_hat)\n",
    "            print(\"epsilon:\", epsilon)\n",
    "\n",
    "        return noisy_embeddings.float(), epsilon.float()\n",
    "\n",
    "    def sample_timesteps(self, n):\n",
    "        return torch.randint(low=1, high=self.noise_steps, size=(n,))\n",
    "\n",
    "    def sample(self, model, n, embedding_dim):\n",
    "        logging.info(f\"Sampling {n} new sequences...\")\n",
    "        model.eval()\n",
    "        with torch.no_grad():\n",
    "            x = torch.randn((n, self.sequence_length, embedding_dim)).to(self.device)\n",
    "            for i in tqdm(reversed(range(1, self.noise_steps)), position=0):\n",
    "                t = (torch.ones(n) * i).long().to(self.device)\n",
    "                predicted_noise = model(x, t)\n",
    "                \n",
    "                alpha = self.alpha[t][:, None, None]\n",
    "                alpha_hat = self.alpha_hat[t][:, None, None]\n",
    "                beta = self.beta[t][:, None, None]\n",
    "\n",
    "                if i > 1:\n",
    "                    noise = torch.randn_like(x)\n",
    "                else:\n",
    "                    noise = torch.zeros_like(x)\n",
    "\n",
    "                x = (1 / torch.sqrt(alpha)) * (x - ((1 - alpha) / torch.sqrt(1 - alpha_hat)) * predicted_noise) + torch.sqrt(beta) * noise\n",
    "\n",
    "        model.train()\n",
    "        return x"
   ]
  },
  {
   "cell_type": "markdown",
   "metadata": {},
   "source": [
    "![Diffusion Sampling Algorithm](sampling.png)\n"
   ]
  },
  {
   "cell_type": "markdown",
   "metadata": {},
   "source": [
    "diffusion = Diffusion(noise_steps=125, beta_start=0.0001, beta_end=0.02, sequence_length=144, device=\"cpu\")\n",
    "\n",
    "print(\"First few beta values:\", diffusion.beta[:5])\n",
    "print(\"First few alpha values:\", diffusion.alpha[:5])\n",
    "print(\"First few alpha_hat values:\", diffusion.alpha_hat[:5])\n",
    "\n",
    "for i, (x,) in enumerate(dataloader):\n",
    "    if i == 0: \n",
    "        t = diffusion.sample_timesteps(x.size(0))\n",
    "        noisy_embeddings, epsilon = diffusion.noise_embeddings(x, t)\n",
    "        print(\"Original vs Noisy Embeddings:\")\n",
    "        print(\"Original shape:\", x.shape, \"| Noisy shape:\", noisy_embeddings.shape)\n",
    "        \n",
    "        # Optional: Calculate the difference to see if noise was added\n",
    "        difference = (noisy_embeddings - x).abs().mean()\n",
    "        print(\"Mean absolute difference between original and noisy embeddings:\", difference.item())\n",
    "        break "
   ]
  },
  {
   "cell_type": "code",
   "execution_count": null,
   "metadata": {},
   "outputs": [
    {
     "name": "stderr",
     "output_type": "stream",
     "text": [
      "01:33:12 - INFO: Starting epoch 0\n",
      "  0%|          | 7/4981 [00:05<1:00:51,  1.36it/s]\n"
     ]
    },
    {
     "ename": "KeyboardInterrupt",
     "evalue": "",
     "output_type": "error",
     "traceback": [
      "\u001b[0;31m---------------------------------------------------------------------------\u001b[0m",
      "\u001b[0;31mKeyboardInterrupt\u001b[0m                         Traceback (most recent call last)",
      "Cell \u001b[0;32mIn[10], line 46\u001b[0m\n\u001b[1;32m     42\u001b[0m         logger\u001b[38;5;241m.\u001b[39madd_scalar(\u001b[38;5;124m\"\u001b[39m\u001b[38;5;124mLoss/epoch_avg_train\u001b[39m\u001b[38;5;124m\"\u001b[39m, avg_epoch_loss, epoch)\n\u001b[1;32m     44\u001b[0m     logger\u001b[38;5;241m.\u001b[39mclose()\n\u001b[0;32m---> 46\u001b[0m \u001b[43mtrain\u001b[49m\u001b[43m(\u001b[49m\u001b[43m)\u001b[49m\n",
      "Cell \u001b[0;32mIn[10], line 32\u001b[0m, in \u001b[0;36mtrain\u001b[0;34m()\u001b[0m\n\u001b[1;32m     29\u001b[0m predicted_x \u001b[38;5;241m=\u001b[39m model(noisy_x, timesteps)\n\u001b[1;32m     31\u001b[0m loss \u001b[38;5;241m=\u001b[39m mse(predicted_x, noisy_x)\n\u001b[0;32m---> 32\u001b[0m \u001b[43mloss\u001b[49m\u001b[38;5;241;43m.\u001b[39;49m\u001b[43mbackward\u001b[49m\u001b[43m(\u001b[49m\u001b[43mretain_graph\u001b[49m\u001b[38;5;241;43m=\u001b[39;49m\u001b[38;5;28;43;01mTrue\u001b[39;49;00m\u001b[43m)\u001b[49m\n\u001b[1;32m     33\u001b[0m optimizer\u001b[38;5;241m.\u001b[39mstep()  \n\u001b[1;32m     34\u001b[0m epoch_loss \u001b[38;5;241m+\u001b[39m\u001b[38;5;241m=\u001b[39m loss\u001b[38;5;241m.\u001b[39mitem()\n",
      "File \u001b[0;32m/Library/Frameworks/Python.framework/Versions/3.10/lib/python3.10/site-packages/torch/_tensor.py:492\u001b[0m, in \u001b[0;36mTensor.backward\u001b[0;34m(self, gradient, retain_graph, create_graph, inputs)\u001b[0m\n\u001b[1;32m    482\u001b[0m \u001b[38;5;28;01mif\u001b[39;00m has_torch_function_unary(\u001b[38;5;28mself\u001b[39m):\n\u001b[1;32m    483\u001b[0m     \u001b[38;5;28;01mreturn\u001b[39;00m handle_torch_function(\n\u001b[1;32m    484\u001b[0m         Tensor\u001b[38;5;241m.\u001b[39mbackward,\n\u001b[1;32m    485\u001b[0m         (\u001b[38;5;28mself\u001b[39m,),\n\u001b[0;32m   (...)\u001b[0m\n\u001b[1;32m    490\u001b[0m         inputs\u001b[38;5;241m=\u001b[39minputs,\n\u001b[1;32m    491\u001b[0m     )\n\u001b[0;32m--> 492\u001b[0m \u001b[43mtorch\u001b[49m\u001b[38;5;241;43m.\u001b[39;49m\u001b[43mautograd\u001b[49m\u001b[38;5;241;43m.\u001b[39;49m\u001b[43mbackward\u001b[49m\u001b[43m(\u001b[49m\n\u001b[1;32m    493\u001b[0m \u001b[43m    \u001b[49m\u001b[38;5;28;43mself\u001b[39;49m\u001b[43m,\u001b[49m\u001b[43m \u001b[49m\u001b[43mgradient\u001b[49m\u001b[43m,\u001b[49m\u001b[43m \u001b[49m\u001b[43mretain_graph\u001b[49m\u001b[43m,\u001b[49m\u001b[43m \u001b[49m\u001b[43mcreate_graph\u001b[49m\u001b[43m,\u001b[49m\u001b[43m \u001b[49m\u001b[43minputs\u001b[49m\u001b[38;5;241;43m=\u001b[39;49m\u001b[43minputs\u001b[49m\n\u001b[1;32m    494\u001b[0m \u001b[43m\u001b[49m\u001b[43m)\u001b[49m\n",
      "File \u001b[0;32m/Library/Frameworks/Python.framework/Versions/3.10/lib/python3.10/site-packages/torch/autograd/__init__.py:251\u001b[0m, in \u001b[0;36mbackward\u001b[0;34m(tensors, grad_tensors, retain_graph, create_graph, grad_variables, inputs)\u001b[0m\n\u001b[1;32m    246\u001b[0m     retain_graph \u001b[38;5;241m=\u001b[39m create_graph\n\u001b[1;32m    248\u001b[0m \u001b[38;5;66;03m# The reason we repeat the same comment below is that\u001b[39;00m\n\u001b[1;32m    249\u001b[0m \u001b[38;5;66;03m# some Python versions print out the first line of a multi-line function\u001b[39;00m\n\u001b[1;32m    250\u001b[0m \u001b[38;5;66;03m# calls in the traceback and some print out the last line\u001b[39;00m\n\u001b[0;32m--> 251\u001b[0m \u001b[43mVariable\u001b[49m\u001b[38;5;241;43m.\u001b[39;49m\u001b[43m_execution_engine\u001b[49m\u001b[38;5;241;43m.\u001b[39;49m\u001b[43mrun_backward\u001b[49m\u001b[43m(\u001b[49m\u001b[43m  \u001b[49m\u001b[38;5;66;43;03m# Calls into the C++ engine to run the backward pass\u001b[39;49;00m\n\u001b[1;32m    252\u001b[0m \u001b[43m    \u001b[49m\u001b[43mtensors\u001b[49m\u001b[43m,\u001b[49m\n\u001b[1;32m    253\u001b[0m \u001b[43m    \u001b[49m\u001b[43mgrad_tensors_\u001b[49m\u001b[43m,\u001b[49m\n\u001b[1;32m    254\u001b[0m \u001b[43m    \u001b[49m\u001b[43mretain_graph\u001b[49m\u001b[43m,\u001b[49m\n\u001b[1;32m    255\u001b[0m \u001b[43m    \u001b[49m\u001b[43mcreate_graph\u001b[49m\u001b[43m,\u001b[49m\n\u001b[1;32m    256\u001b[0m \u001b[43m    \u001b[49m\u001b[43minputs\u001b[49m\u001b[43m,\u001b[49m\n\u001b[1;32m    257\u001b[0m \u001b[43m    \u001b[49m\u001b[43mallow_unreachable\u001b[49m\u001b[38;5;241;43m=\u001b[39;49m\u001b[38;5;28;43;01mTrue\u001b[39;49;00m\u001b[43m,\u001b[49m\n\u001b[1;32m    258\u001b[0m \u001b[43m    \u001b[49m\u001b[43maccumulate_grad\u001b[49m\u001b[38;5;241;43m=\u001b[39;49m\u001b[38;5;28;43;01mTrue\u001b[39;49;00m\u001b[43m,\u001b[49m\n\u001b[1;32m    259\u001b[0m \u001b[43m\u001b[49m\u001b[43m)\u001b[49m\n",
      "\u001b[0;31mKeyboardInterrupt\u001b[0m: "
     ]
    }
   ],
   "source": [
    "from models.transformer import TransformerWithPositionalEncoding\n",
    "\n",
    "def setup_logging(run_name):\n",
    "    logging.basicConfig(level=logging.INFO)\n",
    "\n",
    "def train(model, diffusion, device):\n",
    "    run_name = \"first_run\"\n",
    "    device = \"cuda\" if torch.cuda.is_available() else \"cpu\"\n",
    "    learning_rate = 0.002\n",
    "    epochs = 150\n",
    "\n",
    "    setup_logging(run_name)\n",
    "    optimizer = optim.Adam(model.parameters(), lr=learning_rate)\n",
    "    mse = nn.MSELoss() \n",
    "    logger = SummaryWriter(os.path.join(\"runs\", run_name))\n",
    "\n",
    "    for epoch in range(epochs):\n",
    "        logging.info(f\"Starting epoch {epoch}\")\n",
    "        epoch_loss = 0.0\n",
    "        for batch_idx, (x,) in enumerate(tqdm(dataloader)):\n",
    "            embedded_x = x.to(device) \n",
    "\n",
    "            optimizer.zero_grad()  \n",
    "            timesteps = torch.randint(0, diffusion.noise_steps, (embedded_x.size(0),), device=device)\n",
    "            embedded_x = embedded_x.float()\n",
    "            noisy_x, _ = diffusion.noise_embeddings(embedded_x, timesteps)\n",
    "            predicted_x = model(noisy_x, timesteps)\n",
    "\n",
    "            loss = mse(predicted_x, noisy_x)\n",
    "            loss.backward(retain_graph=True)\n",
    "            optimizer.step()  \n",
    "            epoch_loss += loss.item()\n",
    "\n",
    "            # Log training loss to TensorBoard every 10 batches\n",
    "            if batch_idx % 10 == 0:\n",
    "                logger.add_scalar(\"Loss/train\", loss.item(), epoch * len(dataloader) + batch_idx)\n",
    "\n",
    "        avg_epoch_loss = epoch_loss / len(dataloader)\n",
    "        logging.info(f\"Epoch {epoch} Average Loss: {avg_epoch_loss}\")\n",
    "        logger.add_scalar(\"Loss/epoch_avg_train\", avg_epoch_loss, epoch)\n",
    "\n",
    "    logger.close()\n",
    "\n",
    "device = \"cuda\" if torch.cuda.is_available() else \"cpu\"\n",
    "model = TransformerWithPositionalEncoding(num_layers=3, max_time_steps=144).to(device)\n",
    "diffusion = Diffusion(noise_steps=25, beta_start=0.0001, beta_end=0.02, sequence_length=144, device=\"cpu\")\n",
    "\n",
    "train(model, diffusion)"
   ]
  },
  {
   "cell_type": "code",
   "execution_count": null,
   "metadata": {},
   "outputs": [],
   "source": [
    "def map_embeddings_to_activities(embedded_sequences, embedding_layer):\n",
    "    # Get the embeddings from the embedding layer (shape: [NUM_ACTIVITIES, EMBEDDING_DIM])\n",
    "    embeddings = embedding_layer.weight.data\n",
    "    \n",
    "    # Normalize embeddings to unit vectors\n",
    "    embeddings = F.normalize(embeddings, p=2, dim=1)\n",
    "\n",
    "    # Normalize each vector in the generated sequences to unit vectors\n",
    "    embedded_sequences = embedded_sequences.view(-1, EMBEDDING_DIM)\n",
    "    embedded_sequences = F.normalize(embedded_sequences, p=2, dim=1)\n",
    "\n",
    "    # Calculate dot products (shape: [num_sequences * sequence_length, NUM_ACTIVITIES])\n",
    "    dot_products = torch.matmul(embedded_sequences, embeddings.T)\n",
    "    \n",
    "    # The resulting indices are the activities (shape: [num_sequences * sequence_length])\n",
    "    _, activities = torch.max(dot_products, dim=1)\n",
    "\n",
    "    return activities.view(-1, sequence_length)  # Reshape back to original shape\n"
   ]
  },
  {
   "cell_type": "code",
   "execution_count": null,
   "metadata": {},
   "outputs": [],
   "source": [
    "# After generating new sequences using the diffusion model\n",
    "generated_sequences = diffusion.sample(model = model, n=32, embedding_dim=8)\n",
    "\n",
    "# Map the generated sequences back to discrete activities\n",
    "discrete_activities = map_embeddings_to_activities(generated_sequences, embedding_layer)\n"
   ]
  },
  {
   "cell_type": "code",
   "execution_count": null,
   "metadata": {},
   "outputs": [],
   "source": [
    "# Decode each activity index back to its label\n",
    "decoded_sequences = [[encoder.index_to_acts[index.item()] for index in sequence] for sequence in discrete_activities]\n"
   ]
  },
  {
   "cell_type": "code",
   "execution_count": null,
   "metadata": {},
   "outputs": [],
   "source": [
    "df_decoded = pd.DataFrame(decoded_sequences, columns=[f\"Step {i}\" for i in range(len(decoded_sequences[0]))])\n",
    "df_decoded.head(5) "
   ]
  },
  {
   "cell_type": "code",
   "execution_count": null,
   "metadata": {},
   "outputs": [],
   "source": [
    "plot_image_grid(discrete_activities, title = 'Activity Sequence (Sampled)')"
   ]
  }
 ],
 "metadata": {
  "kernelspec": {
   "display_name": "Python 3",
   "language": "python",
   "name": "python3"
  },
  "language_info": {
   "codemirror_mode": {
    "name": "ipython",
    "version": 3
   },
   "file_extension": ".py",
   "mimetype": "text/x-python",
   "name": "python",
   "nbconvert_exporter": "python",
   "pygments_lexer": "ipython3",
   "version": "3.11.1"
  }
 },
 "nbformat": 4,
 "nbformat_minor": 2
}
