{
 "cells": [
  {
   "cell_type": "code",
   "execution_count": 1,
   "metadata": {},
   "outputs": [],
   "source": [
    "import os\n",
    "import torch\n",
    "import math\n",
    "import torch\n",
    "import torchvision\n",
    "import pandas as pd\n",
    "import numpy as np\n",
    "import torch.nn as nn \n",
    "import torch.nn.functional as F\n",
    "import matplotlib.pyplot as plt \n",
    "from PIL import Image\n",
    "from torch import optim\n",
    "from tqdm import tqdm\n",
    "import logging\n",
    "from torch.utils.tensorboard import SummaryWriter"
   ]
  },
  {
   "cell_type": "code",
   "execution_count": 2,
   "metadata": {},
   "outputs": [],
   "source": [
    "logging.basicConfig(format=\"%(asctime)s - %(levelname)s: %(message)s\", level=logging.INFO, datefmt=\"%I:%M:%S\")\n",
    "def setup_logging(run_name):\n",
    "    os.makedirs(\"models\", exist_ok=True)\n",
    "    os.makedirs(\"results\", exist_ok=True)\n",
    "    os.makedirs(os.path.join(\"models\", run_name), exist_ok=True)\n",
    "    os.makedirs(os.path.join(\"results\", run_name), exist_ok=True)"
   ]
  },
  {
   "cell_type": "markdown",
   "metadata": {},
   "source": [
    "# Diffusion class copied from ... changed the noise schedule to a cosine noising instead of a linear, with influence from OpenAI's diffusion code:\n",
    " https://github.com/openai/guided-diffusion/blob/main/guided_diffusion/gaussian_diffusion.py"
   ]
  },
  {
   "cell_type": "code",
   "execution_count": 3,
   "metadata": {},
   "outputs": [],
   "source": [
    "class Diffusion:\n",
    "    def __init__(self, noise_steps=1000, beta_start=0.0001, beta_end=0.02, sequence_length=144, device=\"cuda\"):\n",
    "        self.noise_steps = noise_steps\n",
    "        self.beta_start = beta_start\n",
    "        self.beta_end = beta_end\n",
    "        self.sequence_length = sequence_length\n",
    "        self.device = device\n",
    "\n",
    "        self.beta = self.schedule_noise().to(device)\n",
    "        self.alpha = 1. - self.beta\n",
    "        self.alpha_hat = torch.cumprod(self.alpha, dim=0)\n",
    "\n",
    "    def schedule_noise(self):\n",
    "        s = 0.008\n",
    "        e = 1.008\n",
    "        max_beta = 0.999\n",
    "        \n",
    "        timesteps = torch.linspace(0, 1, self.noise_steps)\n",
    "        alpha_bar = torch.cos((timesteps * (e - s) + s) * math.pi / 2) ** 2\n",
    "        beta = 1. - alpha_bar[:-1] / alpha_bar[1:] \n",
    "        beta = torch.clip(beta, max=max_beta) \n",
    "        \n",
    "        beta_scaled = beta * (self.beta_end - self.beta_start) + self.beta_start\n",
    "        \n",
    "        return beta_scaled\n",
    "    \n",
    "    def noise_embeddings(self, embeddings, t):\n",
    "        #Assuming `alpha_hat` is a predefined schedule of noise levels indexed by t\n",
    "        sqrt_alpha_hat = torch.sqrt(self.alpha_hat[t])[:, None, None, None]\n",
    "        sqrt_one_minus_alpha_hat = torch.sqrt(1. - self.alpha_hat[t])[:, None, None, None]\n",
    "\n",
    "        epsilon = torch.randn_like(embeddings)\n",
    "\n",
    "        # These operations now account for the embedding dimensions\n",
    "        noisy_embeddings = sqrt_alpha_hat * embeddings + sqrt_one_minus_alpha_hat * epsilon\n",
    "\n",
    "        return noisy_embeddings.float(), epsilon.float()\n",
    "\n",
    "\n",
    "    \n",
    "    def sample_timesteps(self, n):\n",
    "        return torch.randint(low=1, high=self.noise_steps, size=(n,))\n",
    "\n",
    "    def sample(self, model, n, embedding_dim):\n",
    "        logging.info(f\"Sampling {n} new sequences...\")\n",
    "        model.eval()\n",
    "        with torch.no_grad():\n",
    "            # Initialize x with the proper dimensions for sequence data.\n",
    "            x = torch.randn((n, 1, self.sequence_length, embedding_dim)).to(self.device)\n",
    "            for i in tqdm(reversed(range(1, self.noise_steps)), position=0):\n",
    "                t = (torch.ones(n) * i).long().to(self.device)\n",
    "                predicted_noise = model(x, t)\n",
    "                # Adjust dimensions for alpha, alpha_hat, and beta to match x\n",
    "                alpha = self.alpha[t][:, None, None, None] \n",
    "                alpha_hat = self.alpha_hat[t][:, None, None, None]  \n",
    "                beta = self.beta[t][:, None, None, None]  \n",
    "            if i > 1:\n",
    "                noise = torch.randn_like(x)\n",
    "            else:\n",
    "                noise = torch.zeros_like(x)\n",
    "            x = 1 / torch.sqrt(alpha) * (x - ((1 - alpha) / (torch.sqrt(1 - alpha_hat))) * predicted_noise) + torch.sqrt(beta) * noise\n",
    "        \n",
    "        model.train()\n",
    "        # Convert x from embdedded space back to discrete sequence values?\n",
    "        \n",
    "\n",
    "        return x\n"
   ]
  },
  {
   "cell_type": "markdown",
   "metadata": {},
   "source": [
    "# Convert table data to images using Fred's discrete encoder class"
   ]
  },
  {
   "cell_type": "code",
   "execution_count": 4,
   "metadata": {},
   "outputs": [],
   "source": [
    "# Fred's encoder code\n",
    "class DescreteEncoder:\n",
    "    def __init__(self, duration: int = 1440, step_size: int = 10):\n",
    "        self.duration = duration\n",
    "        self.step_size = step_size\n",
    "        self.steps = duration // step_size\n",
    "        self.index_to_acts = {}\n",
    "        self.acts_to_index = {}\n",
    "\n",
    "    def encode(self, data: pd.DataFrame):\n",
    "        # Create mappings from activity to index and vice versa\n",
    "        self.index_to_acts = {i: a for i, a in enumerate(data.act.unique())}\n",
    "        self.acts_to_index = {a: i for i, a in self.index_to_acts.items()}\n",
    "        \n",
    "        # Create a new DataFrame for encoded data\n",
    "        encoded_data = data.copy()\n",
    "        encoded_data['act'] = encoded_data['act'].map(self.acts_to_index)\n",
    "        return encoded_data\n",
    "    \n",
    "    def decode(self, encoded_image_grid) -> pd.DataFrame:\n",
    "        if isinstance(encoded_image_grid, torch.Tensor):\n",
    "            encoded_image_grid = encoded_image_grid.numpy()\n",
    "        \n",
    "        decoded = []\n",
    "        for pid in range(encoded_image_grid.shape[0]):\n",
    "            sequence = encoded_image_grid[pid]\n",
    "            current_act = None\n",
    "            act_start = None\n",
    "            \n",
    "            for time_step, act_index in enumerate(sequence):\n",
    "                # If the activity changes or it's the end of the day, record the activity\n",
    "                if act_index != current_act and current_act is not None:\n",
    "                    act_end = time_step * self.step_size\n",
    "                    decoded.append({\n",
    "                        \"pid\": pid,\n",
    "                        \"act\": self.index_to_acts[current_act],\n",
    "                        \"start\": act_start,\n",
    "                        \"end\": act_end\n",
    "                    })\n",
    "                    act_start = time_step * self.step_size\n",
    "                # If the activity changes, update the current activity\n",
    "                if act_index != current_act:\n",
    "                    current_act = act_index\n",
    "                    act_start = time_step * self.step_size\n",
    "            \n",
    "            # Add the last activity of the day if the day ended with an activity\n",
    "            if current_act is not None and act_start is not None:\n",
    "                decoded.append({\n",
    "                    \"pid\": pid,\n",
    "                    \"act\": self.index_to_acts[current_act],\n",
    "                    \"start\": act_start,\n",
    "                    \"end\": self.duration\n",
    "                })\n",
    "\n",
    "        return pd.DataFrame(decoded, columns=[\"pid\", \"act\", \"start\", \"end\"])\n",
    "    \n"
   ]
  },
  {
   "cell_type": "code",
   "execution_count": 5,
   "metadata": {},
   "outputs": [],
   "source": [
    "data = pd.read_csv('./data/nts_population.csv')\n",
    "encoder = DescreteEncoder()\n",
    "encoded_data = encoder.encode(data)"
   ]
  },
  {
   "cell_type": "code",
   "execution_count": 6,
   "metadata": {},
   "outputs": [],
   "source": [
    "# Function to convert encoded data into an image grid\n",
    "def create_image_grid(encoded_data, encoder):\n",
    "    # Map pid to sequential indices starting from 0\n",
    "    pid_to_index = {pid: index for index, pid in enumerate(encoded_data['pid'].unique())}\n",
    "    \n",
    "    num_people = len(pid_to_index)\n",
    "    time_steps = encoder.steps\n",
    "    grid = np.zeros((num_people, time_steps))\n",
    "    \n",
    "    for _, row in encoded_data.iterrows():\n",
    "        pid_index = pid_to_index[row['pid']]\n",
    "        act_index = row['act']\n",
    "        start_step = row['start'] // encoder.step_size\n",
    "        end_step = row['end'] // encoder.step_size\n",
    "        grid[pid_index, start_step:end_step] = act_index\n",
    "    \n",
    "    return grid"
   ]
  },
  {
   "cell_type": "code",
   "execution_count": 7,
   "metadata": {},
   "outputs": [],
   "source": [
    "image_grid = create_image_grid(encoded_data, encoder)\n",
    "tensor_image_grid = torch.tensor(image_grid)\n",
    "torch.save(tensor_image_grid, './data/image_grid.pt')"
   ]
  },
  {
   "cell_type": "code",
   "execution_count": 8,
   "metadata": {},
   "outputs": [
    {
     "data": {
      "image/png": "[encoded data removed]",
      "text/plain": [
       "<Figure size 1200x600 with 2 Axes>"
      ]
     },
     "metadata": {},
     "output_type": "display_data"
    }
   ],
   "source": [
    "plt.figure(figsize=(12, 6))\n",
    "plt.imshow(image_grid, aspect='auto', cmap=\"tab10\")\n",
    "plt.colorbar()\n",
    "plt.title('Activity Sequence')\n",
    "plt.xlabel('Time Steps')\n",
    "plt.ylabel('Individuals')\n",
    "plt.show()"
   ]
  },
  {
   "cell_type": "code",
   "execution_count": 9,
   "metadata": {},
   "outputs": [
    {
     "name": "stdout",
     "output_type": "stream",
     "text": [
      "torch.Size([64, 1, 144, 8])\n"
     ]
    }
   ],
   "source": [
    "from torch.utils.data import TensorDataset, DataLoader\n",
    "\n",
    "tensor_image_grid = torch.load('./data/image_grid.pt')\n",
    "tensor_image_grid = tensor_image_grid[:-(tensor_image_grid.shape[0] % 64)]\n",
    "N, sequence_length = tensor_image_grid.shape\n",
    "\n",
    "# Define the embedding layer\n",
    "num_activities = 8   \n",
    "embedding_dim = 8  \n",
    "embedding_layer = nn.Embedding(num_activities, embedding_dim)\n",
    "\n",
    "tensor_image_grid = tensor_image_grid.long()\n",
    "\n",
    "flattened_tensor = tensor_image_grid.view(-1) \n",
    "\n",
    "embedded_tensor = embedding_layer(flattened_tensor)\n",
    "\n",
    "embedded_tensor = embedded_tensor.view(N, 1, sequence_length, embedding_dim)\n",
    "\n",
    "# Create a dataset and dataloader\n",
    "dataset = TensorDataset(embedded_tensor)\n",
    "batch_size = 64\n",
    "dataloader = DataLoader(dataset, batch_size=batch_size, shuffle=False)\n",
    "\n",
    "for i, (x,) in enumerate(dataloader):\n",
    "    print(x.shape)\n",
    "    break\n"
   ]
  },
  {
   "cell_type": "code",
   "execution_count": 10,
   "metadata": {},
   "outputs": [
    {
     "name": "stderr",
     "output_type": "stream",
     "text": [
      "/Library/Frameworks/Python.framework/Versions/3.10/lib/python3.10/site-packages/torch/nn/modules/transformer.py:282: UserWarning: enable_nested_tensor is True, but self.use_nested_tensor is False because encoder_layer.self_attn.batch_first was not True(use batch_first for better inference performance)\n",
      "  warnings.warn(f\"enable_nested_tensor is True, but self.use_nested_tensor is False because {why_not_sparsity_fast_path}\")\n",
      "11:07:24 - INFO: Starting epoch 0\n",
      "  0%|          | 0/622 [00:00<?, ?it/s]"
     ]
    },
    {
     "name": "stdout",
     "output_type": "stream",
     "text": [
      "Shape of x: torch.Size([64, 1, 144, 8])\n",
      "Shape of noisy_x: torch.Size([64, 1, 144, 8])\n"
     ]
    },
    {
     "name": "stderr",
     "output_type": "stream",
     "text": [
      "\n"
     ]
    },
    {
     "ename": "RuntimeError",
     "evalue": "Tensors must have same number of dimensions: got 3 and 2",
     "output_type": "error",
     "traceback": [
      "\u001b[0;31m---------------------------------------------------------------------------\u001b[0m",
      "\u001b[0;31mRuntimeError\u001b[0m                              Traceback (most recent call last)",
      "Cell \u001b[0;32mIn[10], line 55\u001b[0m\n\u001b[1;32m     51\u001b[0m         logger\u001b[38;5;241m.\u001b[39madd_scalar(\u001b[38;5;124m\"\u001b[39m\u001b[38;5;124mLoss/epoch_avg_train\u001b[39m\u001b[38;5;124m\"\u001b[39m, avg_epoch_loss, epoch)\n\u001b[1;32m     53\u001b[0m     logger\u001b[38;5;241m.\u001b[39mclose()\n\u001b[0;32m---> 55\u001b[0m \u001b[43mtrain\u001b[49m\u001b[43m(\u001b[49m\u001b[43m)\u001b[49m\n",
      "Cell \u001b[0;32mIn[10], line 35\u001b[0m, in \u001b[0;36mtrain\u001b[0;34m()\u001b[0m\n\u001b[1;32m     33\u001b[0m \u001b[38;5;28mprint\u001b[39m(\u001b[38;5;124mf\u001b[39m\u001b[38;5;124m\"\u001b[39m\u001b[38;5;124mShape of noisy_x: \u001b[39m\u001b[38;5;132;01m{\u001b[39;00mnoisy_x\u001b[38;5;241m.\u001b[39mshape\u001b[38;5;132;01m}\u001b[39;00m\u001b[38;5;124m\"\u001b[39m)\n\u001b[1;32m     34\u001b[0m \u001b[38;5;66;03m# Predict the original embeddings from the noisy ones\u001b[39;00m\n\u001b[0;32m---> 35\u001b[0m predicted_x \u001b[38;5;241m=\u001b[39m \u001b[43mmodel\u001b[49m\u001b[43m(\u001b[49m\u001b[43mnoisy_x\u001b[49m\u001b[43m,\u001b[49m\u001b[43m \u001b[49m\u001b[43mtimesteps\u001b[49m\u001b[43m)\u001b[49m\n\u001b[1;32m     37\u001b[0m \u001b[38;5;66;03m# Calculate loss as the MSE between the predicted and original embeddings\u001b[39;00m\n\u001b[1;32m     38\u001b[0m loss \u001b[38;5;241m=\u001b[39m mse(predicted_x, x)\n",
      "File \u001b[0;32m/Library/Frameworks/Python.framework/Versions/3.10/lib/python3.10/site-packages/torch/nn/modules/module.py:1518\u001b[0m, in \u001b[0;36mModule._wrapped_call_impl\u001b[0;34m(self, *args, **kwargs)\u001b[0m\n\u001b[1;32m   1516\u001b[0m     \u001b[38;5;28;01mreturn\u001b[39;00m \u001b[38;5;28mself\u001b[39m\u001b[38;5;241m.\u001b[39m_compiled_call_impl(\u001b[38;5;241m*\u001b[39margs, \u001b[38;5;241m*\u001b[39m\u001b[38;5;241m*\u001b[39mkwargs)  \u001b[38;5;66;03m# type: ignore[misc]\u001b[39;00m\n\u001b[1;32m   1517\u001b[0m \u001b[38;5;28;01melse\u001b[39;00m:\n\u001b[0;32m-> 1518\u001b[0m     \u001b[38;5;28;01mreturn\u001b[39;00m \u001b[38;5;28;43mself\u001b[39;49m\u001b[38;5;241;43m.\u001b[39;49m\u001b[43m_call_impl\u001b[49m\u001b[43m(\u001b[49m\u001b[38;5;241;43m*\u001b[39;49m\u001b[43margs\u001b[49m\u001b[43m,\u001b[49m\u001b[43m \u001b[49m\u001b[38;5;241;43m*\u001b[39;49m\u001b[38;5;241;43m*\u001b[39;49m\u001b[43mkwargs\u001b[49m\u001b[43m)\u001b[49m\n",
      "File \u001b[0;32m/Library/Frameworks/Python.framework/Versions/3.10/lib/python3.10/site-packages/torch/nn/modules/module.py:1527\u001b[0m, in \u001b[0;36mModule._call_impl\u001b[0;34m(self, *args, **kwargs)\u001b[0m\n\u001b[1;32m   1522\u001b[0m \u001b[38;5;66;03m# If we don't have any hooks, we want to skip the rest of the logic in\u001b[39;00m\n\u001b[1;32m   1523\u001b[0m \u001b[38;5;66;03m# this function, and just call forward.\u001b[39;00m\n\u001b[1;32m   1524\u001b[0m \u001b[38;5;28;01mif\u001b[39;00m \u001b[38;5;129;01mnot\u001b[39;00m (\u001b[38;5;28mself\u001b[39m\u001b[38;5;241m.\u001b[39m_backward_hooks \u001b[38;5;129;01mor\u001b[39;00m \u001b[38;5;28mself\u001b[39m\u001b[38;5;241m.\u001b[39m_backward_pre_hooks \u001b[38;5;129;01mor\u001b[39;00m \u001b[38;5;28mself\u001b[39m\u001b[38;5;241m.\u001b[39m_forward_hooks \u001b[38;5;129;01mor\u001b[39;00m \u001b[38;5;28mself\u001b[39m\u001b[38;5;241m.\u001b[39m_forward_pre_hooks\n\u001b[1;32m   1525\u001b[0m         \u001b[38;5;129;01mor\u001b[39;00m _global_backward_pre_hooks \u001b[38;5;129;01mor\u001b[39;00m _global_backward_hooks\n\u001b[1;32m   1526\u001b[0m         \u001b[38;5;129;01mor\u001b[39;00m _global_forward_hooks \u001b[38;5;129;01mor\u001b[39;00m _global_forward_pre_hooks):\n\u001b[0;32m-> 1527\u001b[0m     \u001b[38;5;28;01mreturn\u001b[39;00m \u001b[43mforward_call\u001b[49m\u001b[43m(\u001b[49m\u001b[38;5;241;43m*\u001b[39;49m\u001b[43margs\u001b[49m\u001b[43m,\u001b[49m\u001b[43m \u001b[49m\u001b[38;5;241;43m*\u001b[39;49m\u001b[38;5;241;43m*\u001b[39;49m\u001b[43mkwargs\u001b[49m\u001b[43m)\u001b[49m\n\u001b[1;32m   1529\u001b[0m \u001b[38;5;28;01mtry\u001b[39;00m:\n\u001b[1;32m   1530\u001b[0m     result \u001b[38;5;241m=\u001b[39m \u001b[38;5;28;01mNone\u001b[39;00m\n",
      "File \u001b[0;32m~/Documents/SynthPopDDPM/synth_pop_ddpm/transformer.py:48\u001b[0m, in \u001b[0;36mTransformerModel.forward\u001b[0;34m(self, src, timesteps)\u001b[0m\n\u001b[1;32m     45\u001b[0m time_embeddings \u001b[38;5;241m=\u001b[39m \u001b[38;5;28mself\u001b[39m\u001b[38;5;241m.\u001b[39mtime_embedding(timesteps)  \u001b[38;5;66;03m# Shape: (batch_size, seq_len, embedding_dim)\u001b[39;00m\n\u001b[1;32m     47\u001b[0m \u001b[38;5;66;03m# Concatenation is not needed if we are directly embedding to the correct dimension\u001b[39;00m\n\u001b[0;32m---> 48\u001b[0m src \u001b[38;5;241m=\u001b[39m \u001b[43mtorch\u001b[49m\u001b[38;5;241;43m.\u001b[39;49m\u001b[43mcat\u001b[49m\u001b[43m(\u001b[49m\u001b[43m(\u001b[49m\u001b[43msrc\u001b[49m\u001b[43m,\u001b[49m\u001b[43m \u001b[49m\u001b[43mtime_embeddings\u001b[49m\u001b[43m)\u001b[49m\u001b[43m,\u001b[49m\u001b[43m \u001b[49m\u001b[43mdim\u001b[49m\u001b[38;5;241;43m=\u001b[39;49m\u001b[38;5;241;43m2\u001b[39;49m\u001b[43m)\u001b[49m  \u001b[38;5;66;03m# Assuming you want to add them instead\u001b[39;00m\n\u001b[1;32m     50\u001b[0m \u001b[38;5;66;03m# Assuming you want to add or use time embeddings directly\u001b[39;00m\n\u001b[1;32m     51\u001b[0m \u001b[38;5;66;03m#src = src + time_embeddings  # Element-wise addition of time embeddings\u001b[39;00m\n\u001b[1;32m     53\u001b[0m src \u001b[38;5;241m=\u001b[39m \u001b[38;5;28mself\u001b[39m\u001b[38;5;241m.\u001b[39mencoder(src)\n",
      "\u001b[0;31mRuntimeError\u001b[0m: Tensors must have same number of dimensions: got 3 and 2"
     ]
    }
   ],
   "source": [
    "from transformer import TransformerModel\n",
    "\n",
    "def setup_logging(run_name):\n",
    "    logging.basicConfig(level=logging.INFO)\n",
    "\n",
    "def train():\n",
    "    run_name = \"first_run\"\n",
    "    device = \"cuda\" if torch.cuda.is_available() else \"cpu\"\n",
    "    learning_rate = 0.001\n",
    "    sequence_length = 144\n",
    "    epochs = 50\n",
    "\n",
    "    setup_logging(run_name)\n",
    "    model = TransformerModel(c_in=1, c_out=1, time_dim=256, device=device).to(device)   \n",
    "    optimizer = optim.Adam(model.parameters(), lr=learning_rate)\n",
    "    mse = nn.MSELoss()\n",
    "    diffusion = Diffusion(sequence_length=sequence_length, device=device)\n",
    "    logger = SummaryWriter(os.path.join(\"runs\", run_name))\n",
    "\n",
    "    # Assuming 'dataloader' is defined and loads your sequence data\n",
    "    for epoch in range(epochs):\n",
    "        logging.info(f\"Starting epoch {epoch}\")\n",
    "        epoch_loss = 0.0\n",
    "        for batch_idx, (x,) in enumerate(tqdm(dataloader)):\n",
    "            x = x.to(device)\n",
    "            optimizer.zero_grad()\n",
    "\n",
    "            # Sample timesteps for each sequence in the batch\n",
    "            timesteps = torch.randint(0, sequence_length, (x.size(0),), device=device)\n",
    "            # Add noise to the embeddings based on the sampled timesteps\n",
    "            print(f\"Shape of x: {x.shape}\")\n",
    "            noisy_x, _ = diffusion.noise_embeddings(x, timesteps)\n",
    "            print(f\"Shape of noisy_x: {noisy_x.shape}\")\n",
    "            # Predict the original embeddings from the noisy ones\n",
    "            predicted_x = model(noisy_x, timesteps)\n",
    "\n",
    "            # Calculate loss as the MSE between the predicted and original embeddings\n",
    "            loss = mse(predicted_x, x)\n",
    "            loss.backward()\n",
    "            optimizer.step()\n",
    "\n",
    "            epoch_loss += loss.item()\n",
    "\n",
    "            # Log training loss to TensorBoard every 10 batches\n",
    "            if batch_idx % 10 == 0:\n",
    "                logger.add_scalar(\"Loss/train\", loss.item(), epoch * len(dataloader) + batch_idx)\n",
    "\n",
    "        # Calculate and log average loss for the epoch\n",
    "        avg_epoch_loss = epoch_loss / len(dataloader)\n",
    "        logging.info(f\"Epoch {epoch} Average Loss: {avg_epoch_loss}\")\n",
    "        logger.add_scalar(\"Loss/epoch_avg_train\", avg_epoch_loss, epoch)\n",
    "\n",
    "    logger.close()\n",
    "\n",
    "train()\n"
   ]
  },
  {
   "cell_type": "code",
   "execution_count": null,
   "metadata": {},
   "outputs": [],
   "source": [
    "tensor_image_grid = torch.load('./data/model_output.pt')  \n",
    "\n",
    "decoder = DescreteEncoder()\n",
    "decoded_data = decoder.decode(tensor_image_grid)\n",
    "decoded_data.to_csv('./data/model_output.csv', index=False)"
   ]
  }
 ],
 "metadata": {
  "kernelspec": {
   "display_name": "Python 3",
   "language": "python",
   "name": "python3"
  },
  "language_info": {
   "codemirror_mode": {
    "name": "ipython",
    "version": 3
   },
   "file_extension": ".py",
   "mimetype": "text/x-python",
   "name": "python",
   "nbconvert_exporter": "python",
   "pygments_lexer": "ipython3",
   "version": "3.10.11"
  }
 },
 "nbformat": 4,
 "nbformat_minor": 2
}
